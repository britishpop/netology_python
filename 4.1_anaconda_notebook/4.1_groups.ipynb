{
 "cells": [
  {
   "cell_type": "markdown",
   "metadata": {},
   "source": [
    "## imports"
   ]
  },
  {
   "cell_type": "code",
   "execution_count": 136,
   "metadata": {},
   "outputs": [],
   "source": [
    "import pandas as pd\n",
    "import os\n",
    "import matplotlib.pyplot as plt\n",
    "\n",
    "%matplotlib inline"
   ]
  },
  {
   "cell_type": "markdown",
   "metadata": {},
   "source": [
    "## global vars"
   ]
  },
  {
   "cell_type": "code",
   "execution_count": 15,
   "metadata": {},
   "outputs": [],
   "source": [
    "data_path = f\"{os.getcwd()}/names/\""
   ]
  },
  {
   "cell_type": "markdown",
   "metadata": {},
   "source": [
    "## names TOP-3"
   ]
  },
  {
   "cell_type": "code",
   "execution_count": 113,
   "metadata": {},
   "outputs": [
    {
     "data": {
      "text/plain": [
       "['James', 'John', 'Robert']"
      ]
     },
     "execution_count": 113,
     "metadata": {},
     "output_type": "execute_result"
    }
   ],
   "source": [
    "def show_top(*args):\n",
    "    names = {}\n",
    "    for year in args:\n",
    "        names[year] = pd.read_csv(data_path + \"yob{}.txt\".format(year), names=[\"Name\" , \"Gender\" , \"Count\"])\n",
    "        top = pd.concat(names).groupby(\"Name\").sum().sort_values(by=\"Count\", ascending=False).head(3)\n",
    "    top_names = top.axes[0].tolist()\n",
    "    return top_names\n",
    "show_top(1900, 1950, 2000)"
   ]
  },
  {
   "cell_type": "markdown",
   "metadata": {},
   "source": [
    "## count dynamics"
   ]
  },
  {
   "cell_type": "code",
   "execution_count": 144,
   "metadata": {},
   "outputs": [
    {
     "data": {
      "text/plain": [
       "{'F': [299800, 1713151, 1815110], 'M': [150483, 1790549, 1962969]}"
      ]
     },
     "execution_count": 144,
     "metadata": {},
     "output_type": "execute_result"
    }
   ],
   "source": [
    "def count_dynamics(*args):\n",
    "    names = {}\n",
    "    dynamics = {}\n",
    "    for year in args:\n",
    "        names[year] = pd.read_csv(data_path + \"yob{}.txt\".format(year),\n",
    "                                  names=[\"Name\" , \"Gender\" , \"Count\"]).groupby(\"Gender\").sum()\n",
    "    dynamics[\"F\"] = pd.concat(names).query(\"Gender == 'F'\").Count.tolist()\n",
    "    dynamics[\"M\"] = pd.concat(names).query(\"Gender == 'M'\").Count.tolist()\n",
    "    return dynamics\n",
    "\n",
    "count_dynamics(1900,1950,2000)"
   ]
  }
 ],
 "metadata": {
  "kernelspec": {
   "display_name": "Python 3",
   "language": "python",
   "name": "python3"
  },
  "language_info": {
   "codemirror_mode": {
    "name": "ipython",
    "version": 3
   },
   "file_extension": ".py",
   "mimetype": "text/x-python",
   "name": "python",
   "nbconvert_exporter": "python",
   "pygments_lexer": "ipython3",
   "version": "3.6.5"
  }
 },
 "nbformat": 4,
 "nbformat_minor": 2
}

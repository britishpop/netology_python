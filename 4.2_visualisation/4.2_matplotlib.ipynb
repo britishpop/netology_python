{
 "cells": [
  {
   "cell_type": "markdown",
   "metadata": {},
   "source": [
    "# static"
   ]
  },
  {
   "cell_type": "code",
   "execution_count": 5,
   "metadata": {},
   "outputs": [],
   "source": [
    "import pandas as pd\n",
    "import matplotlib.pyplot as plt\n",
    "import os\n",
    "\n",
    "%matplotlib inline"
   ]
  },
  {
   "cell_type": "code",
   "execution_count": 11,
   "metadata": {},
   "outputs": [
    {
     "data": {
      "text/plain": [
       "'/Users/britishpop/Documents/python_studies/netology_python/4.2_visualisation/names/'"
      ]
     },
     "execution_count": 11,
     "metadata": {},
     "output_type": "execute_result"
    }
   ],
   "source": [
    "DATA_PATH = f\"{os.getcwd()}/names/\"\n",
    "DATA_PATH"
   ]
  },
  {
   "cell_type": "code",
   "execution_count": null,
   "metadata": {},
   "outputs": [],
   "source": [
    "def centennial_names:\n",
    "    names_by_year = {}\n",
    "    for year in range(1990:2001):\n",
    "        names_by_year[year] = pd.read_csv(DATA_PATH + \"yob{year}.txt\", names = [\"Name\", \"Gender\", \"Count\"])\n",
    "        name_all = pd.concat(names_by_year, names = [\"Year\", \"Pos\"])\n",
    "        name_dynamics = name_all.groupby([index.get_level_values(0), \"Name\"]).sum()\n",
    "        name_dynamics.query(\"Name == ['Ruth', 'Robert']\").plot"
   ]
  }
 ],
 "metadata": {
  "kernelspec": {
   "display_name": "Python 3",
   "language": "python",
   "name": "python3"
  },
  "language_info": {
   "codemirror_mode": {
    "name": "ipython",
    "version": 3
   },
   "file_extension": ".py",
   "mimetype": "text/x-python",
   "name": "python",
   "nbconvert_exporter": "python",
   "pygments_lexer": "ipython3",
   "version": "3.6.5"
  }
 },
 "nbformat": 4,
 "nbformat_minor": 2
}
